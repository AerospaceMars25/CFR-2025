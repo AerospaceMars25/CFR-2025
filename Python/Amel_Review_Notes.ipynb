{
 "cells": [
  {
   "cell_type": "markdown",
   "id": "9203045c-0265-4249-be6e-e51e4aefd0ba",
   "metadata": {},
   "source": [
    "## Friday Review Session! 😄"
   ]
  },
  {
   "cell_type": "markdown",
   "id": "2fd76077-50cb-4993-8d63-5fd30434d915",
   "metadata": {},
   "source": [
    "### Variables:"
   ]
  },
  {
   "cell_type": "markdown",
   "id": "165e73ba-aef4-4e0d-af41-678f500e6d00",
   "metadata": {},
   "source": [
    "A variable is like a storage box to hold information.\n",
    "Whenever you want to refer to that information, just call the name of the variable."
   ]
  },
  {
   "cell_type": "code",
   "execution_count": null,
   "id": "266de617-525c-4018-b018-2d551f43e04b",
   "metadata": {},
   "outputs": [],
   "source": [
    "name = \"Gabby\" # string\n",
    "age = 20 #integer\n",
    "is_student = True #boolean"
   ]
  },
  {
   "cell_type": "markdown",
   "id": "a6c84fcc-b501-4cd8-a38f-fec6c76a5171",
   "metadata": {},
   "source": [
    " Difference between = and ==:"
   ]
  },
  {
   "cell_type": "code",
   "execution_count": null,
   "id": "8c9b8e29-6df0-4dd9-8602-f287ea2eb162",
   "metadata": {},
   "outputs": [],
   "source": [
    "x = 20 # = is an assignment operator, so it assigns a value. It means \"x is now 20.\"\n",
    "\n",
    "y = 12\n",
    "\n",
    "# == checks if two things are equal to each other\n",
    "if x == y:\n",
    "    print(\"They are equal!\")\n",
    "else:\n",
    "    print(\"They are not equal.\")"
   ]
  },
  {
   "cell_type": "markdown",
   "id": "6a527744-7a8f-4fc4-a638-a0b02a961248",
   "metadata": {},
   "source": [
    "How to print variables in a statement:"
   ]
  },
  {
   "cell_type": "code",
   "execution_count": null,
   "id": "c347f6a7-ad48-48de-98b0-1c00081fc45f",
   "metadata": {},
   "outputs": [],
   "source": [
    "name = \"Darius\"\n",
    "\n",
    "# You can use + or , to join strings and variables in a print statement\n",
    "print(\"Hello \" + name) # With +, you have to add a space\n",
    "print(\"Hello\", name) # With , it adds spaces in between for you\n",
    "print(\"Hello Darius\")"
   ]
  },
  {
   "cell_type": "markdown",
   "id": "6fe6ad41-d5cf-4661-b31b-8bb42d22093f",
   "metadata": {},
   "source": [
    "## If Statements"
   ]
  },
  {
   "cell_type": "markdown",
   "id": "57440340-f76a-4f66-ace0-9970e0a54e43",
   "metadata": {},
   "source": [
    "If statements and conditionals let your code make decisions.\n",
    "\n",
    "If a condition is true, run this part of code.\n",
    "\n",
    "If it is false, run a different part of code."
   ]
  },
  {
   "cell_type": "code",
   "execution_count": null,
   "id": "5a9194e0-c4e6-42a7-af19-0c95dc610407",
   "metadata": {},
   "outputs": [],
   "source": [
    "if condition:\n",
    "    # code if this condition is true will run\n",
    "    # second line i want to run. must be indented\n",
    "elif another_condition:\n",
    "    # code if first condition is false, and this other condition is true will run\n",
    "else:\n",
    "    # code if none of the above are true"
   ]
  },
  {
   "cell_type": "markdown",
   "id": "059e44c5-2279-491b-8740-467db8e45d34",
   "metadata": {},
   "source": [
    "Nested If Statement (If inside of an if):"
   ]
  },
  {
   "cell_type": "code",
   "execution_count": null,
   "id": "2f490f2c-074e-4640-a8fe-e2c2af4e3af7",
   "metadata": {},
   "outputs": [],
   "source": [
    "if condition:\n",
    "    if another_condition:\n",
    "        # code will run if BOTH if statements are true.\n",
    "else:\n",
    "    # code will run if first if statement is not true"
   ]
  },
  {
   "cell_type": "code",
   "execution_count": null,
   "id": "2e0d5c64-db9c-42d3-af27-624034d391d1",
   "metadata": {},
   "outputs": [],
   "source": [
    "# example with numbers:\n",
    "\n",
    "temperature = 70\n",
    "\n",
    "if temperature > 85:\n",
    "    print(\"It's hot!\")\n",
    "elif temperature >= 60:\n",
    "    print(\"It's nice.\")\n",
    "else:\n",
    "    print(\"It's cold.\")"
   ]
  },
  {
   "cell_type": "markdown",
   "id": "f516a58b-0a57-4fac-83b8-d3cb83580930",
   "metadata": {},
   "source": [
    "Different Symbols:"
   ]
  },
  {
   "cell_type": "code",
   "execution_count": null,
   "id": "87bd1119-15a0-4085-9425-970c89921951",
   "metadata": {},
   "outputs": [],
   "source": [
    "> is greater than  \n",
    "< is less than  \n",
    ">= is greater than or equal to  \n",
    "<= is less than or equal to\n",
    "% modulus ... tells you the remainder after dividing.\n",
    "    5 % 2 = 1\n",
    "    4 % 2 = 0\n",
    "== is equal to \n",
    "!= is not equal to\n",
    "& and  \n",
    "| or  "
   ]
  },
  {
   "cell_type": "markdown",
   "id": "a4a94900-3267-4822-a870-561e80f49487",
   "metadata": {},
   "source": [
    "Example problem:\n",
    "\n",
    "Make a variable called grade, and assign it a value 85.  \n",
    "If grade is greater than or equal to 90, print A.  \n",
    "If its greater than or equal to than 80, print B.  \n",
    "If its greater than or equal to 70, print C.  \n",
    "If none of these, print fail."
   ]
  },
  {
   "cell_type": "code",
   "execution_count": null,
   "id": "443399b3-9831-4a78-a20f-b5445f564825",
   "metadata": {},
   "outputs": [],
   "source": [
    "grade = 85\n",
    "\n",
    "if grade >= 90:\n",
    "    print(\"A\")\n",
    "elif grade >= 80:\n",
    "    print(\"B\")\n",
    "elif grade >= 70:\n",
    "    print(\"C\")\n",
    "else:\n",
    "    print(\"Fail\")"
   ]
  },
  {
   "cell_type": "markdown",
   "id": "f65de89d-08d6-4db9-a28c-c84d752e1ec9",
   "metadata": {},
   "source": [
    "# While Loops"
   ]
  },
  {
   "cell_type": "markdown",
   "id": "983b5da5-088e-4657-978a-bfccd9be422e",
   "metadata": {},
   "source": [
    "While loops basically tell the computer to run a piece of code as long as a certain condition is true.  \n",
    "Think of it like: \"Keep doing this code while this is true\""
   ]
  },
  {
   "cell_type": "code",
   "execution_count": null,
   "id": "bfa3c501-c451-4ed6-b708-21ce8de03df6",
   "metadata": {},
   "outputs": [],
   "source": [
    "count = 1\n",
    "\n",
    "while count <= 5:\n",
    "    print(\"Count is:\", count)\n",
    "    count = count + 1 \n",
    "#updating the variable is very important so we don't run into infinite loops"
   ]
  },
  {
   "cell_type": "code",
   "execution_count": null,
   "id": "b36d13f0-cf4c-424a-bea2-8ca0cc5c39c6",
   "metadata": {},
   "outputs": [],
   "source": [
    "password = \"\"\n",
    "\n",
    "while password != \"hello\":\n",
    "    password = input(\"Enter the password: \")\n",
    "    print(\"Incorrect. Try again.\")\n",
    "    \n",
    "print(\"Access granted.\")"
   ]
  },
  {
   "cell_type": "markdown",
   "id": "214c35d8-5706-4bf6-9f91-3e4624a53004",
   "metadata": {},
   "source": [
    "# For Loops"
   ]
  },
  {
   "cell_type": "markdown",
   "id": "1ec90208-53c3-461c-8a0e-f4910f95ef1b",
   "metadata": {},
   "source": [
    "Similar to a while loop in the sense that it repeats code.  \n",
    "A for loop goes through items in a list or range, and runs code for each item."
   ]
  },
  {
   "cell_type": "markdown",
   "id": "411aad67-b098-4b1d-ab48-a506ead64f1e",
   "metadata": {},
   "source": [
    "One way: Traverse through a list"
   ]
  },
  {
   "cell_type": "code",
   "execution_count": null,
   "id": "07a21e59-7ebe-48e4-81a7-6cdf4b5b0682",
   "metadata": {},
   "outputs": [],
   "source": [
    "fruits_list = [\"apple\", \"orange\", \"banana\", \"cherry\"]\n",
    "\n",
    "for fruit in fruits_list:\n",
    "    print(\"I like\", fruit)"
   ]
  },
  {
   "cell_type": "markdown",
   "id": "e6e755b5-c36c-40af-a44a-4d519563dc20",
   "metadata": {},
   "source": [
    "Second way: Using range function.  \n",
    "range(n) gives you a list of numbers from 0 to n-1."
   ]
  },
  {
   "cell_type": "code",
   "execution_count": null,
   "id": "20f32bf2-0690-4175-ba9e-c9b53ac5c16a",
   "metadata": {},
   "outputs": [],
   "source": [
    "for x in range(5):\n",
    "    print(x)"
   ]
  },
  {
   "cell_type": "markdown",
   "id": "3519919c-4af5-437f-9e59-44f15f790c63",
   "metadata": {},
   "source": [
    "Third way: Using range function but choosing where to start and stop.  \n",
    "range(start, stop)"
   ]
  },
  {
   "cell_type": "code",
   "execution_count": null,
   "id": "f44072db-2973-4256-bfcc-814b9342465b",
   "metadata": {},
   "outputs": [],
   "source": [
    "for x in range(4):\n",
    "    print(x)"
   ]
  },
  {
   "cell_type": "markdown",
   "id": "f7de80d1-4bb9-4dc3-8d2b-89997beaf6f2",
   "metadata": {},
   "source": [
    "Fourth way to use functions: range(start, stop, step)"
   ]
  },
  {
   "cell_type": "code",
   "execution_count": null,
   "id": "b452b845-b347-4f21-b41a-8a4cc8501b5f",
   "metadata": {},
   "outputs": [],
   "source": [
    "for x in range(2, 11, 2):\n",
    "    print(x)"
   ]
  },
  {
   "cell_type": "markdown",
   "id": "85269861-75b0-4b4e-a6af-7385e10b3e47",
   "metadata": {},
   "source": [
    "# Functions"
   ]
  },
  {
   "cell_type": "markdown",
   "id": "23e5e612-1850-4079-9cb5-6f8d8e9b19bb",
   "metadata": {},
   "source": [
    "A function is a reusable recipe.  \n",
    "You write and define the function once, and then use it whenever you need it.  \n",
    "When I call this function, I run these steps."
   ]
  },
  {
   "cell_type": "code",
   "execution_count": null,
   "id": "a7bb2008-f191-4866-8fc6-71cbce654801",
   "metadata": {},
   "outputs": [],
   "source": [
    "# Create function\n",
    "def say_hello():\n",
    "    return \"Hello!\""
   ]
  },
  {
   "cell_type": "code",
   "execution_count": null,
   "id": "1df93e62-feb1-49ce-bd5e-5e7248cae226",
   "metadata": {},
   "outputs": [],
   "source": [
    "# Use function\n",
    "print(say_hello())"
   ]
  },
  {
   "cell_type": "markdown",
   "id": "253e1e5a-1ce5-45f2-bbed-965a20b9fd14",
   "metadata": {},
   "source": [
    "Function with a parameter (input)"
   ]
  },
  {
   "cell_type": "code",
   "execution_count": null,
   "id": "c2ecbda7-acf4-4159-9cec-bbe850830880",
   "metadata": {},
   "outputs": [],
   "source": [
    "# Create a function\n",
    "def greet(name):\n",
    "    greeting = \"Hi \" + name + \"! Welcome.\"\n",
    "    return greeting"
   ]
  },
  {
   "cell_type": "code",
   "execution_count": null,
   "id": "34708335-c0bf-4580-8069-8dc61e5e90ea",
   "metadata": {},
   "outputs": [],
   "source": [
    "# Call the function\n",
    "print(greet(\"Darius\"))\n",
    "print(greet(\"Naeem\"))\n",
    "print(greet(\"Gabby\"))\n",
    "print(greet(\"W\"))\n",
    "print(greet(\"Belle\"))\n",
    "print(greet(\"Daniel\"))"
   ]
  },
  {
   "cell_type": "code",
   "execution_count": null,
   "id": "18923b1e-fda7-440d-aca8-5ef19fb70701",
   "metadata": {},
   "outputs": [],
   "source": [
    "# Create a function\n",
    "def is_even(number):\n",
    "    if number % 2 == 0: # mod 2 means the remainder when dividing by 2\n",
    "        return True\n",
    "    else:\n",
    "        return False"
   ]
  },
  {
   "cell_type": "code",
   "execution_count": null,
   "id": "4dc95be8-6154-4eda-8813-7f94dee743cc",
   "metadata": {},
   "outputs": [],
   "source": [
    "# Using the function\n",
    "\n",
    "print(is_even(36))\n",
    "\n",
    "# Can be put into a variable first\n",
    "is_33_even = is_even(33)\n",
    "print(is_33_even)"
   ]
  },
  {
   "cell_type": "markdown",
   "id": "dc59ba4b-e096-4b22-a063-061283083fc5",
   "metadata": {},
   "source": [
    "Multiple inputs:"
   ]
  },
  {
   "cell_type": "code",
   "execution_count": null,
   "id": "9e950a9c-f2a4-4690-8440-ab6f4a8e4b70",
   "metadata": {},
   "outputs": [],
   "source": [
    "def total_flowers_cost(amount_of_flowers, price_of_flowers):\n",
    "    total_cost = amount_of_flowers * price_of_flowers\n",
    "    return total_cost"
   ]
  },
  {
   "cell_type": "code",
   "execution_count": null,
   "id": "6132cb5d-a3f2-47dd-b305-87d08fe74794",
   "metadata": {},
   "outputs": [],
   "source": [
    "Amel = total_flowers_cost(3,12)\n",
    "print(\"Amel spends\", Amel, \"on flowers.\")\n",
    "\n",
    "Belle = total_flowers_cost(4,10)\n",
    "print(\"Belle spends\", Belle, \"on flowers.\")\n"
   ]
  },
  {
   "cell_type": "markdown",
   "id": "f720ca1c-3d3f-40fa-985c-583c5db61e3d",
   "metadata": {},
   "source": [
    "# Numpy Library"
   ]
  },
  {
   "cell_type": "markdown",
   "id": "87ea3ebf-f638-4a0e-bf30-bbabcac986c3",
   "metadata": {},
   "source": [
    "Numpy is a helpful library when you are working with numbers and arrays.  \n",
    "Array = list"
   ]
  },
  {
   "cell_type": "code",
   "execution_count": null,
   "id": "cd556def-a04e-48cd-945e-244c4bda1131",
   "metadata": {},
   "outputs": [],
   "source": [
    "import numpy as np"
   ]
  },
  {
   "cell_type": "markdown",
   "id": "17858069-8da9-47e8-8eba-34be7253fb06",
   "metadata": {},
   "source": [
    "Arrays:"
   ]
  },
  {
   "cell_type": "code",
   "execution_count": null,
   "id": "e5e891b1-4e8c-40f7-be30-6a0ac60c1b42",
   "metadata": {},
   "outputs": [],
   "source": [
    "my_array = np.array([1, 2, 3, 4, 5])\n",
    "print(my_array)"
   ]
  },
  {
   "cell_type": "code",
   "execution_count": null,
   "id": "06e7b460-74aa-4b8d-8842-41c35a2df5f7",
   "metadata": {},
   "outputs": [],
   "source": [
    "print(my_array.size) # How many items are in the array"
   ]
  },
  {
   "cell_type": "code",
   "execution_count": null,
   "id": "b0fdf7e0-b4d9-4c04-88d1-08cb35dd9f1f",
   "metadata": {},
   "outputs": [],
   "source": [
    "my_array_doubled = my_array * 2 # multiples an entire array / list\n",
    "print(my_array_doubled)"
   ]
  },
  {
   "cell_type": "code",
   "execution_count": null,
   "id": "462bbf29-5a13-4d54-8070-a86dd04df430",
   "metadata": {},
   "outputs": [],
   "source": [
    "first_item = my_array[0]\n",
    "print(first_item)"
   ]
  },
  {
   "cell_type": "code",
   "execution_count": null,
   "id": "dd3cd69a-23d6-4980-b7b3-06cddbf6e38b",
   "metadata": {},
   "outputs": [],
   "source": [
    "print(my_array[2]*3)"
   ]
  },
  {
   "cell_type": "code",
   "execution_count": null,
   "id": "ac7a9129-5b67-4e48-9999-9ef5e456baa6",
   "metadata": {},
   "outputs": [],
   "source": [
    "print(my_array)"
   ]
  },
  {
   "cell_type": "code",
   "execution_count": null,
   "id": "4b8e3d30-e551-46f2-bc23-956a6ef063f8",
   "metadata": {},
   "outputs": [],
   "source": [
    "print(my_array[:3])"
   ]
  },
  {
   "cell_type": "code",
   "execution_count": null,
   "id": "2c5d4167-7129-40d4-bb33-fe016f629877",
   "metadata": {},
   "outputs": [],
   "source": [
    "print(my_array[1:4])"
   ]
  },
  {
   "cell_type": "markdown",
   "id": "13ccb05b-785a-40b8-b271-f27b21aab065",
   "metadata": {},
   "source": [
    "2D Arrays"
   ]
  },
  {
   "cell_type": "markdown",
   "id": "14f3a00a-2dd4-4a9f-bb68-fbad0d4ca4d6",
   "metadata": {},
   "source": [
    "Think of 2D arrays as like a table. There will be rows and columns."
   ]
  },
  {
   "cell_type": "code",
   "execution_count": null,
   "id": "c4c88622-79db-48a8-9b22-1e354e87843d",
   "metadata": {},
   "outputs": [],
   "source": [
    "my_2D_array = [1,2,3], [4,5,6], [7,8,9]"
   ]
  },
  {
   "cell_type": "code",
   "execution_count": null,
   "id": "98c1ce5b-57a9-4559-950b-b102af6cd8ed",
   "metadata": {},
   "outputs": [],
   "source": [
    "print(my_2D_array)"
   ]
  },
  {
   "cell_type": "code",
   "execution_count": null,
   "id": "ceac72d7-8793-466c-9aca-cd3c08ce5ab9",
   "metadata": {},
   "outputs": [],
   "source": [
    "my_2D_array = np.zeros((3, 4)) # 3 rows, 4 columns\n",
    "print(my_2D_array)\n",
    "print()\n",
    "\n",
    "my_2D_array[0,0] = 4 # change one number\n",
    "print(my_2D_array)\n",
    "print()\n",
    "\n",
    "my_2D_array[0] = 1 # change a whole row\n",
    "print(my_2D_array)\n",
    "print()\n",
    "\n",
    "my_2D_array[:, 0] = 2\n",
    "print(my_2D_array)"
   ]
  },
  {
   "cell_type": "markdown",
   "id": "3f05475e-6b43-4817-8b97-9021b872bc4d",
   "metadata": {},
   "source": [
    "To generate a random number, we use the random.randint(a, b) function.  \n",
    "generates a random number from a to b."
   ]
  },
  {
   "cell_type": "code",
   "execution_count": null,
   "id": "de2ebdea-d3a5-4cb9-a60a-3b1e5ee75df1",
   "metadata": {},
   "outputs": [],
   "source": [
    "random_number = np.random.randint(0,6)\n",
    "print(random_number)"
   ]
  },
  {
   "cell_type": "markdown",
   "id": "ea7e9cc7-a75a-40f1-bf87-0859182dc419",
   "metadata": {},
   "source": [
    "To generate a random choice from a list, we used np.random.choice(list)"
   ]
  },
  {
   "cell_type": "code",
   "execution_count": null,
   "id": "bd54a018-bd55-4836-814f-36397e190826",
   "metadata": {},
   "outputs": [],
   "source": [
    "lunch_options = [\"Mac and cheese\", \"Pizza\", \"Salad\"]\n",
    "what_i_will_eat = np.random.choice(lunch_options)\n",
    "print(what_i_will_eat)"
   ]
  },
  {
   "cell_type": "markdown",
   "id": "f3560e72-0324-433b-aa08-57a90adde5e6",
   "metadata": {},
   "source": [
    "# Matplotlib"
   ]
  },
  {
   "cell_type": "markdown",
   "id": "383e3520-bf4f-4738-9552-8074ca3fc2d3",
   "metadata": {},
   "source": [
    "Libraries = a collection of a bunch of functions. you need to import a library if you want to use its function."
   ]
  },
  {
   "cell_type": "markdown",
   "id": "b08d2210-3b28-47a6-a802-92e78458c242",
   "metadata": {},
   "source": [
    "Matplotlib is a specific library that people use to make plots and graphs."
   ]
  },
  {
   "cell_type": "markdown",
   "id": "941f59d9-3b86-47b3-b242-4a7736ba476b",
   "metadata": {},
   "source": [
    "We have been using pyplot section of Matplotlib.  "
   ]
  },
  {
   "cell_type": "code",
   "execution_count": 1,
   "id": "769247c0-ffb2-442f-9d22-a29cf8d9258e",
   "metadata": {},
   "outputs": [],
   "source": [
    "import matplotlib.pyplot as plt"
   ]
  },
  {
   "cell_type": "code",
   "execution_count": 9,
   "id": "8f54d766-ac71-4d45-9a8c-e86eb2eab8e8",
   "metadata": {},
   "outputs": [
    {
     "data": {
      "image/png": "[encoded data removed]",
      "text/plain": [
       "<Figure size 640x480 with 1 Axes>"
      ]
     },
     "metadata": {},
     "output_type": "display_data"
    }
   ],
   "source": [
    "#Simple line plot\n",
    "list_1 = [1, 2, 3, 4]\n",
    "list_2 = [10, 20, 30, 40]\n",
    "\n",
    "plt.plot(list_1, list_2, color=\"blue\", marker=\"o\", markersize=8, markerfacecolor=\"yellow\") # create a plot\n",
    "plt.title(\"Simple plot\")\n",
    "plt.xlabel(\"X values\")\n",
    "plt.ylabel(\"Y values\") # Create a plot and customize it\n",
    "plt.grid (True)\n",
    "plt.show()"
   ]
  },
  {
   "cell_type": "markdown",
   "id": "78432843-8891-4cbf-8968-a1879e72c5f7",
   "metadata": {},
   "source": [
    "# Subplot's "
   ]
  },
  {
   "cell_type": "markdown",
   "id": "15f72a26-e1ee-47cd-aa6f-f2282580efe6",
   "metadata": {},
   "source": [
    "Bar Plots:\n",
    "Used fro when you have one categorical data set and one numerical datat set "
   ]
  },
  {
   "cell_type": "code",
   "execution_count": null,
   "id": "53cefb2b-e5df-4856-a55c-48c6ba8a286d",
   "metadata": {},
   "outputs": [],
   "source": [
    "#sample data \n",
    "categories = [\"Apples\", \"Bannanas\",\"Cherries\"]\n",
    "values = [10,24,18]\n"
   ]
  },
  {
   "cell_type": "markdown",
   "id": "20c4a5f2-9ef0-4e76-bdbb-b1295a8e2e80",
   "metadata": {},
   "source": [
    "Histrograms look similar to barplots\n",
    "However, they are used to group NUMERIC data into bins (ranges) and shows how many fall into that range. "
   ]
  },
  {
   "cell_type": "code",
   "execution_count": 11,
   "id": "2e8ded32-cb99-4906-970e-ca4977216ac0",
   "metadata": {},
   "outputs": [
    {
     "data": {
      "image/png": "[encoded data removed]",
      "text/plain": [
       "<Figure size 640x480 with 1 Axes>"
      ]
     },
     "metadata": {},
     "output_type": "display_data"
    }
   ],
   "source": [
    "#example data of scores \n",
    "scores = [85, 87, 70, 91, 88, 73, 74, 90, 95, 85, 78, 82, 88, 84, 79, 87, 89]\n",
    "plt.hist(scores, bins=5, color=\"skyblue\", edgecolor=\"black\")\n",
    "\n",
    "plt.title (\"Distribution of Test Scores\")\n",
    "plt.xlabel(\"Score Ranges\")\n",
    "plt.ylabel(\"Number of Students\")\n",
    "\n",
    "plt.show()"
   ]
  },
  {
   "cell_type": "markdown",
   "id": "d3137a36-04db-42d4-8c85-cde504788ac7",
   "metadata": {},
   "source": [
    "Scatterplots: SHow the relationship between to sets of numbers. Each point represents one data pair. "
   ]
  },
  {
   "cell_type": "code",
   "execution_count": 14,
   "id": "07bae594-8402-431c-a330-6ead16cbc853",
   "metadata": {},
   "outputs": [
    {
     "data": {
      "image/png": "[encoded data removed]",
      "text/plain": [
       "<Figure size 640x480 with 1 Axes>"
      ]
     },
     "metadata": {},
     "output_type": "display_data"
    }
   ],
   "source": [
    "#Sample data \n",
    "hours = [1,2,3,4,5,6]\n",
    "scores = [50,55,65,70,75,85]\n",
    "\n",
    "#how many hours a student vs test score\n",
    "plt.scatter (hours, scores, color= 'purple')\n",
    "plt.title(\"Study time vs Test Score\")\n",
    "plt.xlabel(\"Hours studied\")\n",
    "plt.ylabel(\"Test Score\")\n",
    "plt.grid(True)"
   ]
  },
  {
   "cell_type": "markdown",
   "id": "55f6d20f-5bf3-4b34-a01b-7ca528ebf065",
   "metadata": {},
   "source": [
    "Subplots in Matplotlib:\n",
    "\n",
    "Show multiple plots in one figure."
   ]
  },
  {
   "cell_type": "code",
   "execution_count": 20,
   "id": "e59c4893-077e-4837-abde-2e22ec8cbcd3",
   "metadata": {},
   "outputs": [
    {
     "data": {
      "image/png": "[encoded data removed]",
      "text/plain": [
       "<Figure size 640x480 with 2 Axes>"
      ]
     },
     "metadata": {},
     "output_type": "display_data"
    }
   ],
   "source": [
    "#  Sample data \n",
    "\n",
    "#1st subplot data\n",
    "x_subplot1 = [1,2,3,4]\n",
    "y_subplot1= [2,4,6,8]\n",
    "\n",
    "#2nd subplot data \n",
    "x_subplot2 = [\"Apples\", \"Bananas\", \"Cherries\"]\n",
    "y_subplot2 = [6, 8 ,10]\n",
    "\n",
    "plt.subplot(1, 2, 1) # (rows, columns, which number plot you want to create) \n",
    "plt.plot (x_subplot1, y_subplot1,marker = \"o\", color = \"pink\")\n",
    "\n",
    "plt.annotate (\"Peak\", xy= (4,8), xytext = (3,8), arrowprops=dict(facecolor=\"skyblue\"))\n",
    "plt.title(\"First subplot\")\n",
    "plt.xlabel(\"X data\")\n",
    "plt.ylabel(\"Y data\")\n",
    "\n",
    "plt.subplot(1, 2, 2) \n",
    "plt.bar(x_subplot2, y_subplot2, color = \"skyblue\")\n",
    "plt.title (\"Fruits\")\n",
    "plt.ylabel(\"Number Sold\")\n",
    "\n",
    "plt.tight_layout() # fixes the layout\n"
   ]
  },
  {
   "cell_type": "markdown",
   "id": "8b492c97-48ac-422c-a455-eb23d87de15f",
   "metadata": {},
   "source": [
    "# Pandas "
   ]
  },
  {
   "cell_type": "markdown",
   "id": "a589910c-2fe7-412c-b2a7-d2b602c15b81",
   "metadata": {},
   "source": [
    "Library used when working with data sets / data frames."
   ]
  },
  {
   "cell_type": "code",
   "execution_count": null,
   "id": "25847a40-90b7-4203-b603-2a48436c1328",
   "metadata": {},
   "outputs": [],
   "source": [
    "import pandas as pd #imports the Library"
   ]
  },
  {
   "cell_type": "code",
   "execution_count": null,
   "id": "5bc4a673-075b-4cba-be1c-34eb960f437c",
   "metadata": {},
   "outputs": [],
   "source": [
    "df = pd.read_csv (\"Students.csv\")\n",
    "df.to_csv(\"New_file.csv\", index = False) #save data frame to your computer"
   ]
  }
 ],
 "metadata": {
  "kernelspec": {
   "display_name": "Python 3 (ipykernel)",
   "language": "python",
   "name": "python3"
  },
  "language_info": {
   "codemirror_mode": {
    "name": "ipython",
    "version": 3
   },
   "file_extension": ".py",
   "mimetype": "text/x-python",
   "name": "python",
   "nbconvert_exporter": "python",
   "pygments_lexer": "ipython3",
   "version": "3.12.7"
  }
 },
 "nbformat": 4,
 "nbformat_minor": 5
}
