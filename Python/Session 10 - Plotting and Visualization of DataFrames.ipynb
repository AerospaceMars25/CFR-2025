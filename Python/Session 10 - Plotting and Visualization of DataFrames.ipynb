{
 "cells": [
  {
   "cell_type": "markdown",
   "metadata": {},
   "source": [
    "# Session 10: Plotting and Visualization of DataFrames\n",
    "\n",
    "## Introduction\n",
    "Data visualization is a powerful tool for understanding and communicating data. In this tutorial, we will explore how to visualize data using Pandas and Matplotlib in Python. By the end of this tutorial, you will be able to create various types of plots directly from Pandas DataFrames, customize these plots, and perform advanced data visualization techniques.\n",
    "\n",
    "### Objectives\n",
    "- Understand the basics of plotting with Pandas and Matplotlib.\n",
    "- Create and customize various types of plots from DataFrames.\n",
    "- Learn advanced data visualization techniques for effective data analysis.\n",
    "\n",
    "### Prerequisites\n",
    "- Knowledge of Python: functions, variables, arrays.\n",
    "- Basic understanding of Pandas and Matplotlib.\n",
    "\n",
    "**Estimated Time: 1.5 hours**\n",
    "\n",
    "## Introduction to Plotting with Pandas\n",
    "\n",
    "### What is Pandas Plotting?\n",
    "Pandas integrates with Matplotlib to provide a high-level interface for plotting data contained in DataFrames and Series. This makes it easy to create quick and beautiful visualizations directly from Pandas objects.\n",
    "\n",
    "### Importing Required Libraries\n",
    "Before we start, let's import Pandas and Matplotlib:\n"
   ]
  },
  {
   "cell_type": "code",
   "execution_count": 6,
   "metadata": {},
   "outputs": [],
   "source": []
  },
  {
   "cell_type": "markdown",
   "metadata": {},
   "source": [
    "### Creating Sample DataFrame\n",
    "We'll use the following sample DataFrame for our examples:"
   ]
  },
  {
   "cell_type": "code",
   "execution_count": null,
   "metadata": {},
   "outputs": [],
   "source": []
  },
  {
   "cell_type": "markdown",
   "metadata": {},
   "source": [
    "## Part 1: Basic Plotting with Pandas (30 minutes)\n",
    "\n",
    "Pandas makes it easy to create basic plots using the `plot` method. The default plot type is a line plot.\n",
    "\n",
    "#### Example 1: Line Plot\n"
   ]
  },
  {
   "cell_type": "code",
   "execution_count": null,
   "metadata": {},
   "outputs": [],
   "source": []
  },
  {
   "cell_type": "markdown",
   "metadata": {},
   "source": [
    "**Practice Problem 1: Create Your Own Line Plot**\n",
    "\n",
    "Create a line plot for the 'Quantity' vs 'Product' data in the DataFrame.\n",
    "\n",
    "**Solution:**\n"
   ]
  },
  {
   "cell_type": "code",
   "execution_count": null,
   "metadata": {},
   "outputs": [],
   "source": [
    "\n"
   ]
  },
  {
   "cell_type": "markdown",
   "metadata": {},
   "source": [
    "#### Example 2: Customizing Line Plot\n",
    "\n",
    "You can customize your plots by changing colors, adding markers, and more.\n"
   ]
  },
  {
   "cell_type": "code",
   "execution_count": null,
   "metadata": {},
   "outputs": [],
   "source": [
    "\n"
   ]
  },
  {
   "cell_type": "markdown",
   "metadata": {},
   "source": [
    "**Practice Problem 2: Customize Your Line Plot**\n",
    "\n",
    "Customize the line plot you created in Practice Problem 1 by changing the color to blue, adding a dashed line style, and using square markers.\n",
    "\n",
    "**Solution:**\n"
   ]
  },
  {
   "cell_type": "code",
   "execution_count": null,
   "metadata": {},
   "outputs": [],
   "source": []
  },
  {
   "cell_type": "markdown",
   "metadata": {},
   "source": [
    "## Part 2: Common Plot Types (30 minutes)\n",
    "\n",
    "#### Example 3: Bar Plot\n"
   ]
  },
  {
   "cell_type": "code",
   "execution_count": null,
   "metadata": {},
   "outputs": [],
   "source": [
    "\n"
   ]
  },
  {
   "cell_type": "markdown",
   "metadata": {},
   "source": [
    "**Practice Problem 3: Create Your Own Bar Plot**\n",
    "\n",
    "Create a bar plot for the 'Quantity' vs 'Product' data in the DataFrame.\n",
    "\n",
    "**Solution:**\n"
   ]
  },
  {
   "cell_type": "code",
   "execution_count": null,
   "metadata": {},
   "outputs": [],
   "source": [
    "\n"
   ]
  },
  {
   "cell_type": "markdown",
   "metadata": {},
   "source": [
    "#### Example 4: Histogram\n",
    "\n",
    "Histograms are useful for displaying the distribution of a dataset.\n"
   ]
  },
  {
   "cell_type": "code",
   "execution_count": null,
   "metadata": {},
   "outputs": [],
   "source": [
    "\n"
   ]
  },
  {
   "cell_type": "markdown",
   "metadata": {},
   "source": [
    "**Practice Problem 4: Create Your Own Histogram**\n",
    "\n",
    "Create a histogram for a dataset of 100 random values.\n",
    "\n",
    "**Solution:**\n"
   ]
  },
  {
   "cell_type": "code",
   "execution_count": null,
   "metadata": {},
   "outputs": [],
   "source": []
  },
  {
   "cell_type": "markdown",
   "metadata": {},
   "source": [
    "#### Example 5: Scatter Plot\n",
    "\n",
    "Scatter plots are useful for visualizing the relationship between two variables.\n"
   ]
  },
  {
   "cell_type": "code",
   "execution_count": null,
   "metadata": {},
   "outputs": [],
   "source": []
  },
  {
   "cell_type": "markdown",
   "metadata": {},
   "source": [
    "**Practice Problem 5: Create Your Own Scatter Plot**\n",
    "\n",
    "Create a scatter plot for the following data:\n",
    "\n",
    "x: [10, 20, 30, 40, 50]\n",
    "y: [15, 25, 35, 45, 55]\n",
    "\n",
    "**Solution:**\n"
   ]
  },
  {
   "cell_type": "code",
   "execution_count": null,
   "metadata": {},
   "outputs": [],
   "source": [
    "\n"
   ]
  },
  {
   "cell_type": "markdown",
   "metadata": {},
   "source": [
    "## Part 3: Advanced Customization and Subplots (30 minutes)\n",
    "\n",
    "\n",
    "#### Example 6: Creating Subplots\n",
    "\n",
    "Subplots allow you to create multiple plots in a single figure."
   ]
  },
  {
   "cell_type": "code",
   "execution_count": null,
   "metadata": {},
   "outputs": [],
   "source": []
  },
  {
   "cell_type": "markdown",
   "metadata": {},
   "source": [
    "**Practice Problem 6: Create Your Own Subplots**\n",
    "\n",
    "Create a figure with two subplots:\n",
    "- A line plot for the data x: [0, 1, 2, 3, 4], y: [0, 1, 4, 9, 16]\n",
    "- A bar plot for the data categories: ['A', 'B', 'C'], values: [5, 10, 15]\n",
    "\n",
    "**Solution:**\n"
   ]
  },
  {
   "cell_type": "code",
   "execution_count": null,
   "metadata": {},
   "outputs": [],
   "source": []
  },
  {
   "cell_type": "markdown",
   "metadata": {},
   "source": [
    "#### Example 7: Adding Annotations\n"
   ]
  },
  {
   "cell_type": "code",
   "execution_count": null,
   "metadata": {},
   "outputs": [],
   "source": []
  },
  {
   "cell_type": "markdown",
   "metadata": {},
   "source": [
    "**Practice Problem 7: Add Annotations to Your Plot**\n",
    "\n",
    "Add an annotation to the highest point in the line plot from Practice Problem 1.\n",
    "\n",
    "**Solution:**\n"
   ]
  },
  {
   "cell_type": "code",
   "execution_count": null,
   "metadata": {},
   "outputs": [],
   "source": []
  },
  {
   "cell_type": "markdown",
   "metadata": {},
   "source": [
    "## Conclusion\n",
    "\n",
    "In this tutorial, you have learned how to:\n",
    "- Create basic plots using Pandas.\n",
    "- Customize plots with colors, markers, and grid lines.\n",
    "- Create different types of plots such as bar plots, histograms, and scatter plots.\n",
    "- Use subplots to create multiple plots in a single figure.\n",
    "- Add annotations to highlight specific data\n"
   ]
  },
  {
   "cell_type": "markdown",
   "metadata": {},
   "source": []
  },
  {
   "cell_type": "code",
   "execution_count": 6,
   "metadata": {},
   "outputs": [
    {
     "ename": "NameError",
     "evalue": "name 'amount_falafel' is not defined",
     "output_type": "error",
     "traceback": [
      "\u001b[1;31m---------------------------------------------------------------------------\u001b[0m",
      "\u001b[1;31mNameError\u001b[0m                                 Traceback (most recent call last)",
      "Cell \u001b[1;32mIn[6], line 12\u001b[0m\n\u001b[0;32m      8\u001b[0m price_pita \u001b[38;5;241m=\u001b[39m \u001b[38;5;241m1\u001b[39m\n\u001b[0;32m     11\u001b[0m \u001b[38;5;66;03m#special deadl: cost of falafel is halved (50%)\u001b[39;00m\n\u001b[1;32m---> 12\u001b[0m cost_falafel_deal \u001b[38;5;241m=\u001b[39m price_falafel \u001b[38;5;241m*\u001b[39m\u001b[38;5;241m0.5\u001b[39m\u001b[38;5;241m*\u001b[39m amount_falafel \n\u001b[0;32m     13\u001b[0m \u001b[38;5;66;03m#or we could have said: cost_falafel_ deal = cost_falafel/2 \u001b[39;00m\n\u001b[0;32m     14\u001b[0m cost_lunch \u001b[38;5;241m=\u001b[39m cost_falafel \u001b[38;5;241m+\u001b[39m cost_lentil \u001b[38;5;241m+\u001b[39mcost_pita\n",
      "\u001b[1;31mNameError\u001b[0m: name 'amount_falafel' is not defined"
     ]
    }
   ],
   "source": [
    "def lunch_cost(price_falafel, amount_falafel, price_soup, amount_soup, price_pita, amount_pita):\n",
    "    cost_lunch = (price_falafel * amount_falafel) + (price_soup * amount_soup) + (price_pita * amount_pita)\n",
    "    return cost_lunch\n",
    "\n",
    "#prices\n",
    "price_falafel = 3\n",
    "price_soup = 2\n",
    "price_pita = 1\n",
    "\n",
    "\n",
    "#special deadl: cost of falafel is halved (50%)\n",
    "cost_falafel_deal = price_falafel *0.5* amount_falafel \n",
    "#or we could have said: cost_falafel_ deal = cost_falafel/2 \n",
    "cost_lunch = cost_falafel + cost_lentil +cost_pita\n",
    "cost_lunch_deal = cost_falafel_deal + cost_lentil +cost_pita \n",
    "return cost_lunch, cost_lunch_deal\n",
    "\n",
    "#Darius Food Option #1\n",
    "darius_cost = lunch_cost(price_falafel, 2, price_soup, 2, price_pita, 1)\n",
    "print(\"Darius's lunch cost: $\", darius_cost)\n",
    "\n",
    "#Belles FOod Option #2\n",
    "belle_cost = lunch_cost(price_falafel, 1, price_soup, 1, price_pita, 4)\n",
    "print (\"Belle's lunch cost: $\", belle_cost)\n",
    "\n",
    "#Amel \n",
    "amel_cost = lunch_cost(price_falafel, 3, price_soup, 2, price_pita, 3)\n",
    "print (\"Amel's lunch cost: $\", amel_cost)\n",
    "\n",
    "total_cost = darius_cost+belle_cost+amel_cost\n",
    "print(total_cost)"
   ]
  },
  {
   "cell_type": "code",
   "execution_count": 7,
   "metadata": {},
   "outputs": [
    {
     "name": "stdout",
     "output_type": "stream",
     "text": [
      "25 degrees C in Fahrenheit is: 77.0\n"
     ]
    }
   ],
   "source": [
    "def cels_to_fahrenheit(celsius):\n",
    "    fahrenheit = celsius * 9/5 + 32\n",
    "    return fahrenheit \n",
    "# Example: Convert to 25 degrees Celsius \n",
    "temp_f= cels_to_fahrenheit(25)\n",
    "print (\"25 degrees C in Fahrenheit is:\", temp_f)"
   ]
  },
  {
   "cell_type": "code",
   "execution_count": null,
   "metadata": {},
   "outputs": [],
   "source": []
  }
 ],
 "metadata": {
  "kernelspec": {
   "display_name": "Python 3 (ipykernel)",
   "language": "python",
   "name": "python3"
  },
  "language_info": {
   "codemirror_mode": {
    "name": "ipython",
    "version": 3
   },
   "file_extension": ".py",
   "mimetype": "text/x-python",
   "name": "python",
   "nbconvert_exporter": "python",
   "pygments_lexer": "ipython3",
   "version": "3.12.7"
  }
 },
 "nbformat": 4,
 "nbformat_minor": 4
}
