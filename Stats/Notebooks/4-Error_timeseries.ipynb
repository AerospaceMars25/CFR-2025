{
 "cells": [
  {
   "cell_type": "markdown",
   "id": "9020e3db",
   "metadata": {},
   "source": [
    "# 4 - Introduction to Statistics: Error and Timeseries"
   ]
  },
  {
   "cell_type": "markdown",
   "id": "e38b6cb7",
   "metadata": {},
   "source": [
    "First, let's import the libraries and data we'll need:"
   ]
  },
  {
   "cell_type": "code",
   "execution_count": 1,
   "id": "6ffd645f",
   "metadata": {},
   "outputs": [],
   "source": [
    "import numpy as np\n",
    "import matplotlib.pyplot as plt\n",
    "from scipy import stats\n",
    "import pandas as pd\n",
    "from sklearn.linear_model import LinearRegression\n",
    "from sklearn.metrics import mean_squared_error, mean_absolute_error, r2_score\n",
    "\n",
    "NBA_regular_2021 = pd.read_csv('Data/NBA_2021-2022_stats_Regular.csv', engine='python', delimiter=';')"
   ]
  },
  {
   "cell_type": "markdown",
   "id": "51d902ed",
   "metadata": {},
   "source": [
    "## 1. Error\n",
    "Measures of error help us understand how accurate our predictions are. "
   ]
  },
  {
   "cell_type": "markdown",
   "id": "1790f750",
   "metadata": {},
   "source": [
    "### Relative error\n",
    "The simplest measure of error is to look at how far from the data our predictions are. Let's start by fitting a correlation in the NBA 2021 datset with a linear regression. We can consider the correlation between 2-Point Attempts (2PA) and 2-Pointers (2P) made"
   ]
  },
  {
   "cell_type": "code",
   "execution_count": 5,
   "id": "138b2a42",
   "metadata": {},
   "outputs": [
    {
     "data": {
      "image/png": "[encoded data removed]",
      "text/plain": [
       "<Figure size 360x360 with 1 Axes>"
      ]
     },
     "metadata": {
      "needs_background": "light"
     },
     "output_type": "display_data"
    }
   ],
   "source": [
    "import matplotlib.pyplot as plt\n",
    "import numpy as np\n",
    "\n",
    "fig, axs = plt.subplots(1, 1, figsize=(5, 5))\n",
    "\n",
    "# Plot positive correlation - \n",
    "independent_variable = \"2PA\"\n",
    "dependent_variable = \"2P\"\n",
    "\n",
    "# Fit a polynomial of degree 1 (linear)\n",
    "#slope, y_intercept = np.polyfit(NBA_regular_2021[independent_variable], NBA_regular_2021[dependent_variable], 1)\n",
    "    \n",
    "# Calculate predicted values y = m* x + b\n",
    "x_array = np.array(NBA_regular_2021[independent_variable]).reshape(-1, 1)\n",
    "y_array = np.array(NBA_regular_2021[dependent_variable])\n",
    "model = LinearRegression()\n",
    "model.fit(x_array, y_array)\n",
    "    \n",
    "# Calculate predicted values\n",
    "slope = model.coef_[0]\n",
    "y_intercept = model.intercept_\n",
    "#y_fit = model.predict(NBA_regular_2021[independent_variable])\n",
    "x_fit_linear = np.linspace(np.min(x_array), np.max(x_array), 100)\n",
    "y_fit_linear = slope * x_fit_linear + y_intercept\n",
    "\n",
    "# Calculate R-squared\n",
    "#r_squared = model.score(x_array, y_array)\n",
    "#slope = \n",
    "#y_fit = slope * NBA_regular_2021[independent_variable] + y_intercept\n",
    "    \n",
    "# Calculate R-squared\n",
    "#correlation_matrix = np.corrcoef(NBA_regular_2021[independent_variable], NBA_regular_2021[dependent_variable])\n",
    "#correlation_xy = correlation_matrix[0, 1]\n",
    "#r_squared = correlation_xy**2\n",
    "    \n",
    "axs.scatter(NBA_regular_2021[independent_variable], NBA_regular_2021[dependent_variable], color='pink')\n",
    "axs.plot(x_fit_linear, y_fit_linear, color='green', linewidth=5)\n",
    "\n",
    "axs.set_title('%s vs 2-Point Attempts' %dependent_variable)\n",
    "axs.set_xlabel(\"2-Point Attempts\")\n",
    "axs.set_ylabel(dependent_variable)\n",
    "\n",
    "plt.tight_layout()\n",
    "plt.show()"
   ]
  },
  {
   "cell_type": "markdown",
   "id": "5f9a6868",
   "metadata": {},
   "source": [
    "The actual 2P data are stored in the array `y_array`\n",
    "\n",
    "The 2PA data are stored in the array `x_array`\n",
    "\n",
    "The model for our predictions is a line with slope stored in the variable `slope` and y-intercept stored in the variable `y_intercept`.\n",
    "\n",
    "To make things easier, let's create a python function that takes in an arbitrary value of 2-Point Attempts and returns the predicted number of 2-Pointers"
   ]
  },
  {
   "cell_type": "code",
   "execution_count": 8,
   "id": "b6e3a046",
   "metadata": {},
   "outputs": [],
   "source": [
    "def TwoPointers_model(twopoint_attempts, slope_model, y_int_model):\n",
    "    number_of_twopointers = slope_model * twopoint_attempts + y_int_model\n",
    "    return number_of_twopointers"
   ]
  },
  {
   "cell_type": "markdown",
   "id": "37aa2a59",
   "metadata": {},
   "source": [
    "Now let's calculate the relative error between the prediction (given by `TwoPointers_model`) and the actual data"
   ]
  },
  {
   "cell_type": "code",
   "execution_count": 9,
   "id": "11337632",
   "metadata": {},
   "outputs": [],
   "source": [
    "TwoPointers_predicted = TwoPointers_model(x_array, slope, y_intercept)"
   ]
  },
  {
   "cell_type": "markdown",
   "id": "6276c27a",
   "metadata": {},
   "source": [
    "### 🔍 EXERCISE 1: Change the dependent variable to another stat you think might be interesting. Show the distribution of the stat, and the scatter between this stat and 3-Point Attempts. 3PA. Is there a potential relationship between 3-Point Attempts and this stat?"
   ]
  },
  {
   "cell_type": "code",
   "execution_count": null,
   "id": "0921237f",
   "metadata": {},
   "outputs": [],
   "source": []
  },
  {
   "cell_type": "markdown",
   "id": "b0ef2545",
   "metadata": {},
   "source": [
    "### 🔍 EXERCISE 2: Find the Pearson correlation coefficient between the stat you chose and 3PA. Is there any kind of correlation between the two variables? If there is a correlation, is it weak or strong?"
   ]
  },
  {
   "cell_type": "code",
   "execution_count": null,
   "id": "399a5193",
   "metadata": {},
   "outputs": [],
   "source": []
  }
 ],
 "metadata": {
  "kernelspec": {
   "display_name": "Python 3",
   "language": "python",
   "name": "python3"
  },
  "language_info": {
   "codemirror_mode": {
    "name": "ipython",
    "version": 3
   },
   "file_extension": ".py",
   "mimetype": "text/x-python",
   "name": "python",
   "nbconvert_exporter": "python",
   "pygments_lexer": "ipython3",
   "version": "3.6.8"
  }
 },
 "nbformat": 4,
 "nbformat_minor": 5
}
