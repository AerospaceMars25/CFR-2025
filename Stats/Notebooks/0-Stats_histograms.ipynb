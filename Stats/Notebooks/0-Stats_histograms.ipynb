{
 "cells": [
  {
   "cell_type": "markdown",
   "id": "9020e3db",
   "metadata": {},
   "source": [
    "# 0 - Introduction to Statistics: Mean, Median, Mode, and Histograms\n",
    "These notebooks will supplement our in-class slides and we will work through some of the examples together in class"
   ]
  },
  {
   "cell_type": "markdown",
   "id": "193ffa10",
   "metadata": {},
   "source": [
    "## 1. Measures of Central Tendency (Mean, Median, Mode)"
   ]
  },
  {
   "cell_type": "markdown",
   "id": "474ee184",
   "metadata": {},
   "source": [
    "First, let's import the libraries we'll need:"
   ]
  },
  {
   "cell_type": "code",
   "execution_count": 5,
   "id": "2535e266",
   "metadata": {},
   "outputs": [],
   "source": [
    "import numpy as np\n",
    "import matplotlib.pyplot as plt\n",
    "from scipy import stats\n",
    "from scipy.stats import norm, uniform, binom, poisson, expon, t, chi2\n",
    "import statistics"
   ]
  },
  {
   "cell_type": "markdown",
   "id": "a3b2e0ac",
   "metadata": {},
   "source": [
    "Let's create a simple dataset to work through examples of some of the things we'll cover in class"
   ]
  },
  {
   "cell_type": "code",
   "execution_count": 7,
   "id": "508fc538",
   "metadata": {},
   "outputs": [
    {
     "name": "stdout",
     "output_type": "stream",
     "text": [
      "Our dataset: [10, 12, 15, 12, 18, 20, 12, 25, 30, 12, 35, 40, 12, 50]\n"
     ]
    }
   ],
   "source": [
    "data = [10, 12, 15, 12, 18, 20, 12, 25, 30, 12, 35, 40, 12, 50]\n",
    "print(\"Our dataset:\", data)"
   ]
  },
  {
   "cell_type": "markdown",
   "id": "966b9ee6",
   "metadata": {},
   "source": [
    "### Arithmetic Mean\n",
    "Arithmetic Mean: The typical meaning of \"average\". Add all numbers and divide by how many numbers there are:\n",
    "\n",
    "\n",
    "# $\\bar{x}=\\dfrac{\\sum_i^N x_i}{N}$"
   ]
  },
  {
   "cell_type": "code",
   "execution_count": 11,
   "id": "bafa4baf",
   "metadata": {},
   "outputs": [
    {
     "name": "stdout",
     "output_type": "stream",
     "text": [
      "Arithmetic Mean: 21.642857142857142\n"
     ]
    }
   ],
   "source": [
    "#We can find the arithmetic mean manually by looping over the elements in our dataset\n",
    "\n",
    "#declare a variable \"summed_values\" that is initialized to zero\n",
    "summed_values=0.0\n",
    "for i in range (0, len(data)):\n",
    "    #Add each value in our dataset to summed_values as we loop through the data array summed_values = summed_values +data(i)\n",
    "    summed_values = summed_values + data[i]\n",
    "    #You can also do the following for shorthand\n",
    "    #summed_values += data[i]\n",
    "\n",
    "#divide summed_values by the total number of values in data\n",
    "total_number_of_values = len(data)\n",
    "average_value = summed_values/total_number_of_values\n",
    "print(\"Arithmetic Mean:\", average_value)"
   ]
  },
  {
   "cell_type": "code",
   "execution_count": 13,
   "id": "9a99c67f",
   "metadata": {},
   "outputs": [
    {
     "name": "stdout",
     "output_type": "stream",
     "text": [
      "Arithmetic Mean: 21.642857142857142\n"
     ]
    }
   ],
   "source": [
    "#We can also use the numpy library to find the arithmetic mean, using the np.mean() function\n",
    "\n",
    "mean_arithmetic = np.mean(data)\n",
    "print(\"Arithmetic Mean:\", mean_arithmetic)"
   ]
  },
  {
   "cell_type": "markdown",
   "id": "08dd0bb0",
   "metadata": {},
   "source": [
    "### Median\n",
    "Median: the middle value of the dataset when the numbers are arranged from smallest to largest"
   ]
  },
  {
   "cell_type": "code",
   "execution_count": 14,
   "id": "47bb7a07",
   "metadata": {},
   "outputs": [
    {
     "name": "stdout",
     "output_type": "stream",
     "text": [
      "Median:  16.5\n"
     ]
    }
   ],
   "source": [
    "# We can take advantage of the np.median() function to find the median\n",
    "\n",
    "median = np.median(data)\n",
    "print(\"Median: \", median)"
   ]
  },
  {
   "cell_type": "markdown",
   "id": "3a151312",
   "metadata": {},
   "source": [
    "Note that the median is a number that does not appear in the data. That means that we took the two middle numbers and averaged them to find the median!"
   ]
  },
  {
   "cell_type": "markdown",
   "id": "91cb39b6",
   "metadata": {},
   "source": [
    "### Mode\n",
    "Mode: the most popular value in the dataset (the one that occurs the most times)"
   ]
  },
  {
   "cell_type": "code",
   "execution_count": 15,
   "id": "0b70df57",
   "metadata": {},
   "outputs": [
    {
     "name": "stdout",
     "output_type": "stream",
     "text": [
      "Mode:  12\n"
     ]
    }
   ],
   "source": [
    "#We can use the np.mode() function to find the mode\n",
    "\n",
    "mode = statistics.mode(data)\n",
    "print(\"Mode: \", mode)"
   ]
  },
  {
   "cell_type": "markdown",
   "id": "1015015e",
   "metadata": {},
   "source": [
    "## 2. Histograms for visualizing data distributions\n",
    "A histogram shows how frequently values occur in different ranges. It offers a great tool for understanding data distributions, ranges, and more. Below we introduce histograms and "
   ]
  },
  {
   "cell_type": "code",
   "execution_count": 22,
   "id": "fd96dcf2",
   "metadata": {},
   "outputs": [
    {
     "data": {
      "image/png": "[encoded data removed]",
      "text/plain": [
       "<Figure size 576x360 with 1 Axes>"
      ]
     },
     "metadata": {
      "needs_background": "light"
     },
     "output_type": "display_data"
    }
   ],
   "source": [
    "#We use matplotlib to create a histogram of our data\n",
    "plt.figure(figsize=(8,5))\n",
    "plt.hist(data, bins=7, color='skyblue', edgecolor='black')\n",
    "plt.title(\"Histogram of Data\")\n",
    "plt.xlabel(\"Value\")\n",
    "plt.ylabel(\"Frequency\")\n",
    "plt.show()\n"
   ]
  },
  {
   "cell_type": "markdown",
   "id": "56f1c4d7",
   "metadata": {},
   "source": [
    "### 🔍 EXERCISE 1: Try changing the data list. How do the mean, median, and mode change? How does the histogram change?"
   ]
  },
  {
   "cell_type": "code",
   "execution_count": 65,
   "id": "93cd4f71-e186-41d1-963d-4b8ab15db4d9",
   "metadata": {},
   "outputs": [
    {
     "name": "stdout",
     "output_type": "stream",
     "text": [
      "The dataset: [10, 20, 30, 35, 45, 60, 80, 95, 100, 125, 140, 150, 155, 180]\n",
      "Arithmetic Mean: 87.5\n",
      "Median:  87.5\n",
      "Mode:  10\n"
     ]
    },
    {
     "data": {
      "image/png": "[encoded data removed]",
      "text/plain": [
       "<Figure size 800x500 with 1 Axes>"
      ]
     },
     "metadata": {},
     "output_type": "display_data"
    }
   ],
   "source": [
    "data = [10, 20, 30, 35, 45, 60, 80, 95, 100, 125, 140, 150, 155, 180,]\n",
    "\n",
    "print(\"The dataset:\", data)\n",
    "summed_values=0.0\n",
    "for i in range (0, len(data)):\n",
    "    #Add each value in our dataset to summed_values as we loop through the data array summed_values = summed_values +data(i)\n",
    "    summed_values = summed_values + data[i]\n",
    "\n",
    "#divide summed_values by the total number of values in data\n",
    "total_number_of_values = len(data)\n",
    "average_value = summed_values/total_number_of_values\n",
    "print(\"Arithmetic Mean:\", average_value)\n",
    "# We can take advantage of the np.median() function to find the median\n",
    "\n",
    "median = np.median(data)\n",
    "print(\"Median: \", median)\n",
    "\n",
    "mode = statistics.mode(data)\n",
    "print(\"Mode: \", mode)\n",
    "\n",
    "#We use matplotlib to create a histogram of our data\n",
    "plt.figure(figsize=(8,5))\n",
    "plt.hist(data, bins=7, color='pink', edgecolor='black')\n",
    "plt.title(\"Histogram of Data\")\n",
    "plt.xlabel(\"Value\")\n",
    "plt.ylabel(\"Frequency\")\n",
    "plt.show()"
   ]
  },
  {
   "cell_type": "markdown",
   "id": "8b0f1658",
   "metadata": {},
   "source": [
    "### 🔍 EXERCISE 2: Add a very large number (like 500) to the data. What happens to the mean, median, and mode? Which one changes the most? Why? How does the histogram change?"
   ]
  },
  {
   "cell_type": "code",
   "execution_count": 31,
   "id": "f258b531",
   "metadata": {},
   "outputs": [
    {
     "name": "stdout",
     "output_type": "stream",
     "text": [
      "Our dataset: [10, 20, 30, 35, 45, 60, 80, 95, 100, 125, 140, 150, 155, 180, 500]\n",
      "Arithmetic Mean: 115.0\n",
      "Median:  95.0\n",
      "Mode:  10\n"
     ]
    },
    {
     "data": {
      "image/png": "[encoded data removed]",
      "text/plain": [
       "<Figure size 800x500 with 1 Axes>"
      ]
     },
     "metadata": {},
     "output_type": "display_data"
    }
   ],
   "source": [
    "data = [10, 20, 30, 35, 45, 60, 80, 95, 100, 125, 140, 150, 155, 180, 500]\n",
    "\n",
    "print(\"Our dataset:\", data)\n",
    "summed_values=0.0\n",
    "for i in range (0, len(data)):\n",
    "    #Add each value in our dataset to summed_values as we loop through the data array summed_values = summed_values +data(i)\n",
    "    summed_values = summed_values + data[i]\n",
    "    #You can also do the following for shorthand\n",
    "    #summed_values += data[i]\n",
    "\n",
    "#divide summed_values by the total number of values in data\n",
    "total_number_of_values = len(data)\n",
    "average_value = summed_values/total_number_of_values\n",
    "print(\"Arithmetic Mean:\", average_value)\n",
    "# We can take advantage of the np.median() function to find the median\n",
    "\n",
    "median = np.median(data)\n",
    "print(\"Median: \", median)\n",
    "\n",
    "mode = statistics.mode(data)\n",
    "print(\"Mode: \", mode)\n",
    "\n",
    "#We use matplotlib to create a histogram of our data\n",
    "\n",
    "plt.figure(figsize=(8,5))\n",
    "plt.hist(data, bins=7, color='pink', edgecolor='black')\n",
    "plt.title(\"Histogram of Data\")\n",
    "plt.xlabel(\"Value\")\n",
    "plt.ylabel(\"Frequency\")\n",
    "plt.show()\n",
    "\n",
    "# We can see in our histogram that the outlier looks seperates the data completely. \n",
    "# The Arithimitic Mean changes the most \n"
   ]
  },
  {
   "cell_type": "markdown",
   "id": "ce1d0d3f",
   "metadata": {},
   "source": [
    "### 🔍 EXERCISE 3: Try creating your own dataset with numbers that all occur the same number of times. What is the mode in that case? What does the histogram look like?)"
   ]
  },
  {
   "cell_type": "code",
   "execution_count": 66,
   "id": "904a3e21",
   "metadata": {},
   "outputs": [
    {
     "name": "stdout",
     "output_type": "stream",
     "text": [
      "Our dataset: [5, 5, 10, 10, 15, 15, 20, 20, 25, 25]\n",
      "Mean: 15.0\n",
      "Median: 15.0\n",
      "Mode:  5\n"
     ]
    },
    {
     "data": {
      "image/png": "[encoded data removed]",
      "text/plain": [
       "<Figure size 800x500 with 1 Axes>"
      ]
     },
     "metadata": {},
     "output_type": "display_data"
    }
   ],
   "source": [
    "# Dataset where each number occurs twice\n",
    "data = [5, 5, 10, 10, 15, 15, 20, 20, 25, 25]\n",
    "\n",
    "print(\"Our dataset:\", data)\n",
    "\n",
    "# Mean\n",
    "mean = sum(data) / len(data)\n",
    "print(\"Mean:\", mean)\n",
    "\n",
    "# Median\n",
    "median = np.median(data)\n",
    "print(\"Median:\", median)\n",
    "\n",
    "mode = statistics.mode(data)\n",
    "print(\"Mode: \", mode)\n",
    "\n",
    "# Histogram\n",
    "plt.figure(figsize=(8, 5))\n",
    "plt.hist(data, bins=5, color='pink', edgecolor='black')\n",
    "plt.title(\"Histogram of Uniform Frequency Data\")\n",
    "plt.xlabel(\"Value\")\n",
    "plt.ylabel(\"Frequency\")\n",
    "plt.show()"
   ]
  },
  {
   "cell_type": "markdown",
   "id": "0e171524",
   "metadata": {},
   "source": [
    "### 🔍 EXERCISE 4: Try plotting a histogram of the following data. \n",
    "\n",
    "### Play around with the number of trials and with more or fewer bins (change 'bins=' to a different number). \n",
    "\n",
    "### How does it change the shape of the histogram? What do you notice as you increase the number of bins?\n",
    "\n",
    "### Does this look like any of the distributions we looked at in class?"
   ]
  },
  {
   "cell_type": "code",
   "execution_count": 68,
   "id": "995fcf2b",
   "metadata": {},
   "outputs": [
    {
     "data": {
      "image/png": "[encoded data removed]",
      "text/plain": [
       "<Figure size 800x500 with 1 Axes>"
      ]
     },
     "metadata": {},
     "output_type": "display_data"
    }
   ],
   "source": [
    "import numpy as np\n",
    "import matplotlib.pyplot as plt\n",
    "\n",
    "# Parameters\n",
    "n = 50          # number of trials\n",
    "p = 0.5         # probability of success\n",
    "size = 1000     # sample size (number of experiments)\n",
    "\n",
    "# Generate binomial samples\n",
    "data = np.random.binomial(n, p, size)\n",
    "\n",
    "# Plot of the histogram \n",
    "plt.figure(figsize=(8, 5)) \n",
    "plt.hist(data, bins=20, color= 'pink', edgecolor = 'black')\n",
    "plt.title (\"Historgram of Bionomial Distribution (n=50, p=0.5)\")\n",
    "plt.xlabel(\"Number of Successes\")\n",
    "plt.ylabel (\"Frequency\")\n",
    "plt.grid(True)\n",
    "plt.show()"
   ]
  },
  {
   "cell_type": "code",
   "execution_count": 19,
   "id": "cd78f35f",
   "metadata": {},
   "outputs": [],
   "source": [
    "# Plot histogram\n"
   ]
  },
  {
   "cell_type": "markdown",
   "id": "883fceb9",
   "metadata": {},
   "source": [
    "## BONUS CONTENT"
   ]
  },
  {
   "cell_type": "markdown",
   "id": "df0f6367",
   "metadata": {},
   "source": [
    "### Geometric Mean\n",
    "Geometric Mean: Useful when averaging growth rates (percent changes, population growths, investment returns, etc.). It's the nth root of the product of numbers.\n",
    "\n",
    "# $\\bar{x} = \\sqrt[n]{x_1 x_2 \\cdots x_n}$"
   ]
  },
  {
   "cell_type": "code",
   "execution_count": 53,
   "id": "219d8632",
   "metadata": {},
   "outputs": [
    {
     "name": "stdout",
     "output_type": "stream",
     "text": [
      "Geometric Mean: inf\n"
     ]
    },
    {
     "name": "stderr",
     "output_type": "stream",
     "text": [
      "C:\\Users\\dp0392\\AppData\\Local\\Temp\\ipykernel_34560\\3534719045.py:7: RuntimeWarning: overflow encountered in scalar multiply\n",
      "  multiplied_values *= data[i]\n"
     ]
    }
   ],
   "source": [
    "#We can find the geometric mean manually by looping over the elements in our dataset\n",
    "\n",
    "#declare a variable \"multiplied_values\" that is initialized to 1\n",
    "multiplied_values=1.0\n",
    "for i in range (0, len(data)):\n",
    "    #Add each value in our dataset to summed_values as we loop through the data array\n",
    "    multiplied_values *= data[i]\n",
    "\n",
    "#find the nth root of the multiplied values - the nth rooth is the same as raising something to the 1/n power\n",
    "geom_average_value = pow(multiplied_values,1./len(data))\n",
    "print(\"Geometric Mean:\", geom_average_value)"
   ]
  },
  {
   "cell_type": "code",
   "execution_count": 54,
   "id": "62dfc988",
   "metadata": {},
   "outputs": [
    {
     "name": "stdout",
     "output_type": "stream",
     "text": [
      "Geometric Mean: 24.761098551421824\n"
     ]
    }
   ],
   "source": [
    "#We can also use the stats library to find the arithmetic mean, using the stats.gmean() function\n",
    "\n",
    "mean_geometric = stats.gmean(data)\n",
    "print(\"Geometric Mean:\", mean_geometric)"
   ]
  },
  {
   "cell_type": "markdown",
   "id": "af43c96e",
   "metadata": {},
   "source": [
    " ### Harmonic Mean\n",
    "Harmonic Mean: used when averaging rates or ratios (e.g., speed). It is the reciprocal of the average of reciprocals\n",
    "\n",
    "# $\\bar{x} = \\dfrac{n}{\\frac{1}{x_1} + \\frac{1}{x_2} + \\cdots \\frac{1}{x_n}}$"
   ]
  },
  {
   "cell_type": "markdown",
   "id": "317d8d6c",
   "metadata": {},
   "source": [
    "### 🔍 EXERCISE: find the harmonic mean of the data set manually using a for loop"
   ]
  },
  {
   "cell_type": "code",
   "execution_count": 59,
   "id": "07dc5678",
   "metadata": {},
   "outputs": [
    {
     "name": "stdout",
     "output_type": "stream",
     "text": [
      "Harmonic Mean (manual): 24.492666985431722\n"
     ]
    }
   ],
   "source": [
    "#Loop over the data array and follow the formula for calculating the harmonic mean\n",
    "reciprocal_sum = 0.0\n",
    "for i in data:\n",
    "    reciprocal_sum += 1/i\n",
    "harmonic_mean = len(data) / reciprocal_sum \n",
    "print(\"Harmonic Mean (manual):\", harmonic_mean)"
   ]
  },
  {
   "cell_type": "code",
   "execution_count": 60,
   "id": "c8925175",
   "metadata": {},
   "outputs": [
    {
     "name": "stdout",
     "output_type": "stream",
     "text": [
      "Harmonic Mean: 24.49266698543185\n"
     ]
    }
   ],
   "source": [
    "#you can check your answer by using the stats function stats.hmean() below\n",
    "mean_harmonic = stats.hmean(data)\n",
    "print(\"Harmonic Mean:\", mean_harmonic)"
   ]
  },
  {
   "cell_type": "code",
   "execution_count": null,
   "id": "542d2d63",
   "metadata": {},
   "outputs": [],
   "source": []
  }
 ],
 "metadata": {
  "kernelspec": {
   "display_name": "Python 3 (ipykernel)",
   "language": "python",
   "name": "python3"
  },
  "language_info": {
   "codemirror_mode": {
    "name": "ipython",
    "version": 3
   },
   "file_extension": ".py",
   "mimetype": "text/x-python",
   "name": "python",
   "nbconvert_exporter": "python",
   "pygments_lexer": "ipython3",
   "version": "3.12.7"
  }
 },
 "nbformat": 4,
 "nbformat_minor": 5
}
