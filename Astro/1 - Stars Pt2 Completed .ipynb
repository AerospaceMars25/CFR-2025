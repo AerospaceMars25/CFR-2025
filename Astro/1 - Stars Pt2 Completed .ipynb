{
 "cells": [
  {
   "cell_type": "code",
   "execution_count": null,
   "metadata": {},
   "outputs": [],
   "source": [
    "# copy and paste your lines of code from the previous notebook where you read in the data\n",
    "\n",
    "# import the package we need to read in the data\n",
    "import pandas as pd\n",
    "\n",
    "# create a variable called data that we assign the value of the data file\n",
    "data = pd.read_csv('Data/gaia_stars.csv')\n"
   ]
  },
  {
   "cell_type": "markdown",
   "metadata": {},
   "source": [
    "Copy and paste the column explanations you started in the last notebook\n",
    "\n",
    "| Column Header | Definition | Unit |\n",
    "| :- | :- | :- |\n",
    "| Star ID | identification number of the star | no unit\n",
    "| Mass [Solar Mass] | the mass of the star (how much stuff it has)  | Solar Mass (Mo); 1 is the mass of our Sun\n",
    "| Radius [Solar Radius] | the radius of the star (how wide it is)  | Solar Radius (Ro); 1 is the radius of our Sun\n",
    "| g band | brightness of the star in the g filter | magnitudes (bigger is dimmer)\n",
    "| r band | brightness of the star in the r filter | magnitudes (bigger is dimmer)\n",
    "| Temperature [K]| temperature of the star | Kelvin (scientific scale for temperature)\n",
    "| Age [Gyr]| how many years the star has existed | Giga years (billion years); 1 Gyr is 1 billion years"
   ]
  },
  {
   "cell_type": "markdown",
   "metadata": {},
   "source": [
    "## Density of Stars\n",
    "\n",
    "Let's now explore the densities of stars. If you recall from STP, density is the amount of stuff something has (the mass) in a given space (the volume). **Looking at the data table, what variables might be helpful for us to calculate the density of stars?** \n",
    "\n",
    "**Answer: The mass and the radius**"
   ]
  },
  {
   "cell_type": "markdown",
   "metadata": {},
   "source": [
    "The equation for density is $\\ \\rm D = \\frac{Mass}{Volume}$. Stars are spheres whose volumes can be calculated using the equation $\\ \\rm V = \\frac{4}{3}\\pi r^3$, where r is the radius and $\\pi$ is 3.14"
   ]
  },
  {
   "cell_type": "code",
   "execution_count": null,
   "metadata": {},
   "outputs": [],
   "source": [
    "# create variables for the mass and radius\n",
    "\n",
    "mass = data['Mass [Solar Mass]']\n",
    "radius = data['Radius [Solar Radius]']"
   ]
  },
  {
   "cell_type": "code",
   "execution_count": null,
   "metadata": {},
   "outputs": [],
   "source": [
    "# calculate the volume of the stars below\n",
    "# make sure you save it to a variable with a helpful name\n",
    "# the resulting units will be (Ro)^3\n",
    "\n",
    "volume = 4 / 3 * 3.14 * radius**3"
   ]
  },
  {
   "cell_type": "code",
   "execution_count": null,
   "metadata": {},
   "outputs": [],
   "source": [
    "# let's make a mass vs volume plot, just like you did for STP!\n",
    "# create a scatter plot where mass is on the y axis and volume is on the x axis\n",
    "# don't forget to label both axes\n",
    "\n",
    "plt.scatter(volume, mass)\n",
    "plt.xlabel('Volume [Ro^3]')\n",
    "plt.ylabel('Mass [Mo]')"
   ]
  },
  {
   "cell_type": "markdown",
   "metadata": {},
   "source": [
    "**What range of masses does your graph show?**\n",
    "\n",
    "**Answer:** 0.5 to 4 solar masses\n",
    "\n",
    "**What range of volumes does your graph show?**\n",
    "\n",
    "**Answer:** 0 to 60,000 cubic solar radius"
   ]
  },
  {
   "cell_type": "code",
   "execution_count": null,
   "metadata": {},
   "outputs": [],
   "source": [
    "# the scatter plot has some mess in it! let's get rid of it by zooming in\n",
    "# zoom in on a volume range of (0, 15)\n",
    "\n",
    "plt.scatter(volume, mass)\n",
    "plt.xlabel('Volume [Ro^3]')\n",
    "plt.ylabel('Mass [Mo]')\n",
    "plt.xlim(0,15)"
   ]
  },
  {
   "cell_type": "markdown",
   "metadata": {},
   "source": [
    "**According to your graph set up...**\n",
    "\n",
    "**What is the independent variable**\n",
    "\n",
    "**Answer:?** The volume\n",
    "\n",
    "\n",
    "**What is the dependent variable?**\n",
    "\n",
    "**Answer:?** The mass\n",
    "\n",
    "\n",
    "**What could a control variable be?**\n",
    "\n",
    "**Answer:?** The kind of object measured is the same (all stars)\n"
   ]
  },
  {
   "cell_type": "markdown",
   "metadata": {},
   "source": [
    "**Describe any pattern/trend (or lack of one) you see**\n",
    "\n",
    "**Answer:** The mass increases a little with volume, especially until like 3 Ro^3. Then the shape flattens more. Most stars are along a narrow mass width"
   ]
  },
  {
   "cell_type": "markdown",
   "metadata": {},
   "source": [
    "## Check in \n",
    "\n",
    "**Could a directly proportional model describe the data? Add notes from our class discussion below**\n",
    "\n",
    "**Notes:** No! It has a curve and doesn't go through (0,0). But we know density is a directly proportional relationship! This means that one model (and therefore one slope) can't be used to describe all the data, or each star. If different stars have different slopes, it means they have different densities! Not all stars have the same density."
   ]
  },
  {
   "cell_type": "code",
   "execution_count": null,
   "metadata": {},
   "outputs": [],
   "source": [
    "# add the sun to your zoomed in plot with a red star marker\n",
    "# remember the Sun's mass is 1 Mo and its radius is 1 Ro\n",
    "# label it \"The Sun\"\n",
    "\n",
    "plt.scatter(volume, mass)\n",
    "plt.scatter(4 / 3 * 3.14 * 1**3, 1, marker='*', color='red', label='the Sun')\n",
    "plt.xlabel('Volume [Ro^3]')\n",
    "plt.ylabel('Mass [Mo]')\n",
    "plt.xlim(0,15)\n",
    "plt.legend()"
   ]
  },
  {
   "cell_type": "code",
   "execution_count": null,
   "metadata": {},
   "outputs": [],
   "source": [
    "# let's change our units to match the units in your mass vs volume STP lab\n",
    "# below are functions I have written that allow you to change units. you do not need to edit anything in this cell\n",
    "\n",
    "# converts mass\n",
    "def Mo_g(mass): # mass must be in Solar Masses\n",
    "    kg = mass * 1.989e30 # convert to kg\n",
    "    g = kg * 1e3 # convert to g\n",
    "    return g\n",
    "\n",
    "# converts volume\n",
    "def Ro3_mL(volume): # volume must be in cubic Solar Radius\n",
    "    km = volume * (695700)**3 # convert to km\n",
    "    cm = km * (1e5)**3 # convert to cm\n",
    "    mL = cm # convert to mL\n",
    "    return mL"
   ]
  },
  {
   "cell_type": "code",
   "execution_count": null,
   "metadata": {},
   "outputs": [],
   "source": [
    "# edit the code below to change the units of your data\n",
    "\n",
    "# convert the gaia sample\n",
    "mass_g = Mo_g(mass) # fill in your variable name for mass\n",
    "volume_mL = Ro3_mL(volume) # fill in your variable name for volume\n",
    "\n",
    "# convert the Sun's mass and volume\n",
    "Sun_mass = Mo_g(1) # fill in the Sun's mass in Mo\n",
    "Sun_volume = Ro3_mL(4 / 3 * 3.14 * 1**3) # fill in the Sun's volume in Ro^3"
   ]
  },
  {
   "cell_type": "code",
   "execution_count": null,
   "metadata": {},
   "outputs": [],
   "source": [
    "# make a new scatter plot showing mass vs volume for gaia and for the sun with our new units\n",
    "# (it will be the same as your last plot but the units will change)\n",
    "# you will need to change the xlim to (0, Ro3_mL(15))\n",
    "\n",
    "plt.scatter(volume_mL, mass_g)\n",
    "plt.scatter(Sun_volume, Sun_mass, marker='*', color='red', label='the Sun')\n",
    "plt.xlabel('Volume [mL]')\n",
    "plt.ylabel('Mass [g]')\n",
    "plt.xlim(0,Ro3_mL(15))\n",
    "plt.legend()"
   ]
  },
  {
   "cell_type": "markdown",
   "metadata": {},
   "source": [
    "**What range of volumes does your graph show?**\n",
    "\n",
    "**Answer:** 0 to 5x10^33 mL\n",
    "\n",
    "**What range of masses does your graph show?**\n",
    "\n",
    "**Answer:** 0 to 7x10^33 grams"
   ]
  },
  {
   "cell_type": "markdown",
   "metadata": {},
   "source": [
    "## Sun Density\n",
    "\n",
    "Since a directly proportional model won't describe the data well, let's calculate the density of the Sun. Remember density is $\\ \\rm D = \\frac{Mass}{Volume}$  . Make sure your density is g/mL"
   ]
  },
  {
   "cell_type": "code",
   "execution_count": null,
   "metadata": {},
   "outputs": [],
   "source": [
    "# calculate the density of the Sun below\n",
    "\n",
    "Sun_mass / Sun_volume # g/mL"
   ]
  },
  {
   "cell_type": "markdown",
   "metadata": {},
   "source": [
    "## Deliverable\n",
    "\n",
    "Make a line plot showing the density of the Sun compared to the density of the 3 liquids you measured for STP. (So you should have a graph with 3 lines on it.) Customize and label the lines so that your graph is clear. Make sure we can easily read the fonts. Be ready to explain your plot and the choices you made to us. "
   ]
  },
  {
   "cell_type": "code",
   "execution_count": null,
   "metadata": {},
   "outputs": [],
   "source": [
    "# create your line plot below\n",
    "\n",
    "# fill in the volumes you measured for STP\n",
    "# this will be your array for the x axis for each liquid and for the sun\n",
    "volumes = [5, 10, 15, 20] #mL\n",
    "\n",
    "# the below function will calculate the masses based on the density you put in\n",
    "# you will need to use this function for each object\n",
    "def masses(density): #g/mL\n",
    "    mass = [a * density for a in volumes]\n",
    "    return mass\n",
    "\n",
    "water_mass = masses(1)\n",
    "oil_mass = masses(.8)\n",
    "karo_mass = masses(1.3)\n",
    "sun_mass = masses(1.4)\n",
    "\n",
    "plt.plot(volumes, water_mass, color='blue', label='water')\n",
    "plt.plot(volumes, oil_mass, color='red', label='oil')\n",
    "plt.plot(volumes, karo_mass, color='orange', label='karo syrup')\n",
    "plt.plot(volumes, sun_mass, color='purple', label='Sun')\n",
    "plt.legend()\n",
    "plt.xlabel('Volume [mL]')\n",
    "plt.ylabel('Mass [g]')"
   ]
  },
  {
   "cell_type": "markdown",
   "metadata": {},
   "source": [
    "**Which liquid from your STP lab has the closest density to the Sun?**\n",
    "\n",
    "**Answer: Karo syrup!**"
   ]
  }
 ],
 "metadata": {
  "kernelspec": {
   "display_name": "Python [conda env:base] *",
   "language": "python",
   "name": "conda-base-py"
  },
  "language_info": {
   "codemirror_mode": {
    "name": "ipython",
    "version": 3
   },
   "file_extension": ".py",
   "mimetype": "text/x-python",
   "name": "python",
   "nbconvert_exporter": "python",
   "pygments_lexer": "ipython3",
   "version": "3.12.7"
  }
 },
 "nbformat": 4,
 "nbformat_minor": 4
}
